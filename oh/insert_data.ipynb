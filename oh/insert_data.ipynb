{
 "cells": [
  {
   "cell_type": "code",
   "execution_count": 4,
   "metadata": {},
   "outputs": [],
   "source": [
    "def create_table(table_name):\n",
    "        import MySQLdb\n",
    "        import os\n",
    "        from dotenv import load_dotenv\n",
    "        load_dotenv()\n",
    "\n",
    "        aurora_host = os.getenv('AURORA_HOST')\n",
    "        aurora_database = os.getenv('AURORA_DATABASE')\n",
    "        aurora_user = os.getenv('AURORA_USER')\n",
    "        aurora_pwd = os.getenv('AURORA_PWD')\n",
    "\n",
    "        conn = MySQLdb.connect(host=aurora_host, user=aurora_user, password=aurora_pwd, db=aurora_database, charset='utf8', port=3306)\n",
    "\n",
    "        cur = conn.cursor()\n",
    "        if table_name == 'delete':\n",
    "                cur.execute('''\n",
    "                            drop table cd_store2;\n",
    "                            ''')\n",
    "        if table_name == 'region_info':\n",
    "                cur.execute('''\n",
    "                        create table region_info(\n",
    "                                cd_div_cd int(20) not null,\n",
    "                                cd_div_nm varchar(100) not null,\n",
    "                                cd_cd int(20) primary key,\n",
    "                                cd_nm varchar(100) not null,\n",
    "                                br_cd int(20) not null,\n",
    "                                br_nm varchar(100) not null,\n",
    "                                ab_cd int(20) not null,\n",
    "                                ab_nm varchar(100) not null\n",
    "                        )\n",
    "                ''')\n",
    "        if table_name == 'code_info':\n",
    "                cur.execute('''\n",
    "                        create table code_info(\n",
    "                                st_cd varchar(100) primary key,\n",
    "                                st_nm varchar(100) not null\n",
    "                        )\n",
    "                ''')\n",
    "        if table_name == 'cd_store2':\n",
    "                cur.execute('''\n",
    "                        create table cd_store2(\n",
    "                                aq_cd int(30) not null,\n",
    "                                cd_cd int(30) not null,\n",
    "                                st_cd varchar(100) not null,\n",
    "                                cd_div_cd varchar(100) not null,\n",
    "                                total_ns int(30) not null,\n",
    "                                si_ns int(30) not null,\n",
    "                                total_or int(30) not null,\n",
    "                                open_ns int(30) not null,\n",
    "                                total_cr int(30) not null,\n",
    "                                close_ns int(30) not null,\n",
    "                                franchise_ns int(30) not null,\n",
    "                                primary key (aq_cd, cd_cd, st_cd)\n",
    "                        )\n",
    "                ''')\n",
    "\n",
    "        conn.commit()\n",
    "        conn.close()"
   ]
  },
  {
   "cell_type": "code",
   "execution_count": 9,
   "metadata": {},
   "outputs": [],
   "source": [
    "create_table('delete')"
   ]
  },
  {
   "cell_type": "code",
   "execution_count": 3,
   "metadata": {},
   "outputs": [],
   "source": [
    "def insert_data(data, table):\n",
    "    import MySQLdb\n",
    "    import os\n",
    "    from dotenv import load_dotenv\n",
    "    load_dotenv()\n",
    "\n",
    "    aurora_host = os.getenv('AURORA_HOST')\n",
    "    aurora_database = os.getenv('AURORA_DATABASE')\n",
    "    aurora_user = os.getenv('AURORA_USER')\n",
    "    aurora_pwd = os.getenv('AURORA_PWD')\n",
    "\n",
    "    conn = MySQLdb.connect(host=aurora_host, user=aurora_user, password=aurora_pwd, db=aurora_database, charset='utf8', port=3306)\n",
    "\n",
    "    cur = conn.cursor()\n",
    "\n",
    "    if table == 'region_info':\n",
    "        cur.execute('insert into region_info(cd_div_cd, cd_div_nm, cd_cd, cd_nm, br_cd, br_nm, ab_cd, ab_nm) values (%s, %s, %s, %s, %s, %s, %s, %s)',\n",
    "                    data)\n",
    "    \n",
    "    if table == 'code_info':\n",
    "        cur.execute('insert into code_info(st_cd, st_nm) values (%s, %s)',\n",
    "                    data)\n",
    "\n",
    "    if table == 'cd_store':\n",
    "        cur.execute('insert into cd_store(aq_cd, cd_cd, st_cd, cd_div_cd, total_ns, si_ns, total_or, open_ns, total_cr, close_ns, franchise_ns) values (%s, %s, %s, %s, %s, %s, %s, %s, %s, %s, %s)',\n",
    "                    data)"
   ]
  },
  {
   "cell_type": "code",
   "execution_count": 2,
   "metadata": {},
   "outputs": [],
   "source": [
    "import pandas as pd"
   ]
  },
  {
   "cell_type": "code",
   "execution_count": 3,
   "metadata": {},
   "outputs": [],
   "source": [
    "df_region_info = pd.read_csv('output/region_info.csv', encoding='utf-8', index_col=0)\n",
    "df_cd_store = pd.read_csv('output/cd_store.csv', encoding='utf-8', index_col=0)\n",
    "df_code_info = pd.read_csv('output/code_info.csv', encoding='utf-8', index_col=0)"
   ]
  },
  {
   "cell_type": "code",
   "execution_count": 4,
   "metadata": {},
   "outputs": [],
   "source": [
    "df_region_info_dict = df_region_info.to_dict(orient='records')\n",
    "df_cd_store_dict = df_cd_store.to_dict(orient='records')\n",
    "df_code_info_dict = df_code_info.to_dict(orient='records')"
   ]
  },
  {
   "cell_type": "code",
   "execution_count": 8,
   "metadata": {},
   "outputs": [
    {
     "data": {
      "text/plain": [
       "{'cd_div_cd': 'A',\n",
       " 'cd_div_nm': '골목상권',\n",
       " 'cd_cd': 3110008,\n",
       " 'cd_nm': '배화여자대학교(박노수미술관)',\n",
       " 'br_cd': 11110,\n",
       " 'br_nm': '종로구',\n",
       " 'ab_cd': 11110515,\n",
       " 'ab_nm': '청운효자동'}"
      ]
     },
     "execution_count": 8,
     "metadata": {},
     "output_type": "execute_result"
    }
   ],
   "source": [
    "df_region_info_dict[0]"
   ]
  },
  {
   "cell_type": "code",
   "execution_count": 9,
   "metadata": {},
   "outputs": [],
   "source": [
    "data_store = [(\n",
    "    df_cd_store_dict[j]['aq_cd'],\n",
    "    df_cd_store_dict[j]['cd_cd'],\n",
    "    df_cd_store_dict[j]['st_cd'],\n",
    "    df_cd_store_dict[j]['cd_div_cd'],\n",
    "    df_cd_store_dict[j]['total_ns'],\n",
    "    df_cd_store_dict[j]['si_ns'],\n",
    "    df_cd_store_dict[j]['total_or'],\n",
    "    df_cd_store_dict[j]['open_ns'],\n",
    "    df_cd_store_dict[j]['total_cr'],\n",
    "    df_cd_store_dict[j]['close_ns'],\n",
    "    df_cd_store_dict[j]['franchise_ns']\n",
    "            ) for j in range(len(df_cd_store_dict))]\n",
    "\n",
    "data_region = [(\n",
    "    df_region_info_dict[j]['cd_div_cd'],\n",
    "    df_region_info_dict[j]['cd_div_nm'],\n",
    "    df_region_info_dict[j]['cd_cd'],\n",
    "    df_region_info_dict[j]['cd_nm'],\n",
    "    df_region_info_dict[j]['br_cd'],\n",
    "    df_region_info_dict[j]['br_nm'],\n",
    "    df_region_info_dict[j]['ab_cd'],\n",
    "    df_region_info_dict[j]['ab_nm']\n",
    "            ) for j in range(len(df_region_info_dict))]"
   ]
  },
  {
   "cell_type": "code",
   "execution_count": null,
   "metadata": {},
   "outputs": [],
   "source": [
    "import MySQLdb\n",
    "import os\n",
    "from dotenv import load_dotenv\n",
    "load_dotenv()\n",
    "\n",
    "aurora_host = os.getenv('AURORA_HOST')\n",
    "aurora_database = os.getenv('AURORA_DATABASE')\n",
    "aurora_user = os.getenv('AURORA_USER')\n",
    "aurora_pwd = os.getenv('AURORA_PWD')\n",
    "conn = MySQLdb.connect(host=aurora_host, user=aurora_user, password=aurora_pwd, db=aurora_database, charset='utf8', port=3306)\n",
    "cur = conn.cursor()\n",
    "\n",
    "cnt = 0\n",
    "for i in range(len(data_region)):\n",
    "    cur.execute(f'''\n",
    "                insert into region_info(cd_div_cd, cd_div_nm, cd_cd, cd_nm, br_cd, br_nm, ab_cd, ab_nm) values \n",
    "                {data_region[i]}\n",
    "                ''')\n",
    "    cnt += 1\n",
    "    print(cnt)\n",
    "\n",
    "conn.commit()\n",
    "conn.close()"
   ]
  },
  {
   "cell_type": "code",
   "execution_count": null,
   "metadata": {},
   "outputs": [],
   "source": [
    "conn = MySQLdb.connect(host=aurora_host, user=aurora_user, password=aurora_pwd, db=aurora_database, charset='utf8', port=3306)\n",
    "cur = conn.cursor()\n",
    "\n",
    "cnt = 0\n",
    "for i in range(143638):\n",
    "    cur.execute(f'''\n",
    "                insert into cd_store(aq_cd, cd_cd, st_cd, cd_div_cd, total_ns, si_ns, total_or, open_ns, total_cr, close_ns, franchise_ns) values \n",
    "                {data_store[i*10]},\n",
    "                {data_store[(i*10)+1]},\n",
    "                {data_store[(i*10)+2]},\n",
    "                {data_store[(i*10)+3]},\n",
    "                {data_store[(i*10)+4]},\n",
    "                {data_store[(i*10)+5]},\n",
    "                {data_store[(i*10)+6]},\n",
    "                {data_store[(i*10)+7]},\n",
    "                {data_store[(i*10)+8]},\n",
    "                {data_store[(i*10)+9]}\n",
    "                ''')\n",
    "    cnt += 1\n",
    "    print(cnt)\n",
    "\n",
    "conn.commit()\n",
    "conn.close()"
   ]
  }
 ],
 "metadata": {
  "kernelspec": {
   "display_name": "pj2",
   "language": "python",
   "name": "python3"
  },
  "language_info": {
   "codemirror_mode": {
    "name": "ipython",
    "version": 3
   },
   "file_extension": ".py",
   "mimetype": "text/x-python",
   "name": "python",
   "nbconvert_exporter": "python",
   "pygments_lexer": "ipython3",
   "version": "3.10.13"
  }
 },
 "nbformat": 4,
 "nbformat_minor": 2
}
