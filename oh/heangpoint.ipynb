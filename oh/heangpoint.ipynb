{
 "cells": [
  {
   "cell_type": "code",
   "execution_count": null,
   "metadata": {},
   "outputs": [],
   "source": [
    "# 필요한 라이브러리 import\n",
    "import json\n",
    "import pandas as pd"
   ]
  },
  {
   "cell_type": "code",
   "execution_count": null,
   "metadata": {},
   "outputs": [],
   "source": [
    "# 필요한 데이터 load\n",
    "with open('output/heang.json', 'r') as f:\n",
    "    heang = json.load(f)\n",
    "\n",
    "with open('output/heangpoint.json', 'r') as f:\n",
    "    heangpoint = json.load(f)\n",
    "\n",
    "with open('output/dict_list.json', 'r') as f:\n",
    "    dict_list = json.load(f)\n",
    "\n",
    "df2 = pd.read_csv('output/ab_cd_summary_view.csv', encoding='utf-8')"
   ]
  },
  {
   "cell_type": "code",
   "execution_count": null,
   "metadata": {},
   "outputs": [],
   "source": [
    "# 필요한 정보의 위치와 반복\n",
    "heang['features'][0]['properties']"
   ]
  },
  {
   "cell_type": "code",
   "execution_count": null,
   "metadata": {},
   "outputs": [],
   "source": [
    "ab_cd_list_ = [heang['features'][i]['properties']['ab_cd'] for i in range(len(heang['features']))]"
   ]
  },
  {
   "cell_type": "code",
   "execution_count": null,
   "metadata": {},
   "outputs": [],
   "source": [
    "df2_list = df2.to_dict(orient='records')\n",
    "df2_dict = {\n",
    "    str(df2_list[i]['ab_cd']) : df2_list[i] for i in range(len(df2_list))\n",
    "}"
   ]
  },
  {
   "cell_type": "code",
   "execution_count": null,
   "metadata": {},
   "outputs": [],
   "source": [
    "for i in ab_cd_list_:\n",
    "    if i not in df2_dict:\n",
    "        df2_dict[str(i)] = {\n",
    "            'ab_cd': str(i),\n",
    "            'sum_cm_sa': 0,\n",
    "            'sum_total_ns': 0,\n",
    "            'ratio_cm_sa_ns': 0,\n",
    "            'max_total_ns_st_nm': '없음',\n",
    "            'max_cm_sa_st_nm': '없음'\n",
    "        }"
   ]
  },
  {
   "cell_type": "code",
   "execution_count": null,
   "metadata": {},
   "outputs": [],
   "source": [
    "heang2 = {\n",
    "    \"type\": \"FeatureCollection\",\n",
    "    \"name\": \"heang\",\n",
    "    \"crs\": {\n",
    "        \"type\": \"name\",\n",
    "        \"properties\": {\n",
    "            \"name\": \"urn:ogc:def:crs:OGC:1.3:CRS84\"\n",
    "        }\n",
    "    },\n",
    "    \"features\": [\n",
    "        {\n",
    "            \"type\": \"Feature\",\n",
    "            \"properties\": {\n",
    "                \"adm_nm\": heang['features'][i]['properties']['adm_nm'],\n",
    "                \"adm_cd\": heang['features'][i]['properties']['adm_cd'],\n",
    "                \"ab_cd\": heang['features'][i]['properties']['ab_cd'],\n",
    "                \"br_cd\": heang['features'][i]['properties']['br_cd'],\n",
    "                \"sido\": \"11\",\n",
    "                \"sidonm\": \"서울특별시\",\n",
    "                \"ab_nm\": heang['features'][i]['properties']['ab_nm'],\n",
    "                \"br_nm\": heang['features'][i]['properties']['br_nm'],\n",
    "                \"adm_cd8\":  heang['features'][i]['properties']['adm_cd8'],\n",
    "                'sum_cm_sa': df2_dict[heang['features'][i]['properties']['ab_cd']]['sum_cm_sa'],\n",
    "                'sum_total_ns': df2_dict[heang['features'][i]['properties']['ab_cd']]['sum_total_ns'],\n",
    "                'ratio_cm_sa_ns': df2_dict[heang['features'][i]['properties']['ab_cd']]['ratio_cm_sa_ns'],\n",
    "                'max_total_ns_st_nm': df2_dict[heang['features'][i]['properties']['ab_cd']]['max_total_ns_st_nm'],\n",
    "                'max_cm_sa_st_nm': df2_dict[heang['features'][i]['properties']['ab_cd']]['max_cm_sa_st_nm']\n",
    "            },\n",
    "            \"geometry\": {\n",
    "                \"type\": \"MultiPolygon\",\n",
    "                \"coordinates\": heang['features'][i]['geometry']['coordinates']\n",
    "            }\n",
    "        } for i in range(len(heang['features']))\n",
    "    ]\n",
    "}"
   ]
  },
  {
   "cell_type": "code",
   "execution_count": null,
   "metadata": {},
   "outputs": [],
   "source": [
    "haeng_list = [\n",
    "    {\n",
    "        'ab_cd': heang['features'][i]['properties']['ab_cd'],\n",
    "        'br_cd': heang['features'][i]['properties']['br_cd'],\n",
    "        'ab_nm': heang['features'][i]['properties']['ab_nm'],\n",
    "        'br_nm': heang['features'][i]['properties']['br_nm'],\n",
    "        'adm_nm': ' '.join(['서울특별시', heang['features'][i]['properties']['br_cd'], heang['features'][i]['properties']['ab_nm']]),\n",
    "        'sum_cm_sa': heang['features'][i]['properties']['sum_cm_sa'],\n",
    "        'sum_total_ns': heang['features'][i]['properties']['sum_total_ns'],\n",
    "        'ratio_cm_sa_ns': heang['features'][i]['properties']['ratio_cm_sa_ns'],\n",
    "        'max_total_ns_st_nm': heang['features'][i]['properties']['max_total_ns_st_nm'],\n",
    "        'max_cm_sa_st_nm': heang['features'][i]['properties']['max_cm_sa_st_nm'],\n",
    "        'coordinates': dict_list[heang['features'][i]['properties']['ab_cd']][::-1]\n",
    "    } for i in range(len(heang['features']))\n",
    "]"
   ]
  },
  {
   "cell_type": "code",
   "execution_count": null,
   "metadata": {},
   "outputs": [],
   "source": [
    "heangpoint2 = {\n",
    "    \"type\": \"FeatureCollection\",\n",
    "    \"name\": \"haengpoint\",\n",
    "    \"features\": [\n",
    "        {\n",
    "            \"type\": \"Feature\",\n",
    "\t\t\t\"geometry\": {\n",
    "\t\t\t\t\"type\": \"Point\",\n",
    "\t\t\t\t\"coordinates\": heangpoint['features'][i]['geometry']['coordinates']\n",
    "\t\t\t},\n",
    "\t\t\t\"properties\": {\n",
    "\t\t\t\t\"ab_cd\": str(heangpoint['features'][i]['properties']['ab_cd']),\n",
    "\t\t\t\t\"sidonm\": \"서울특별시\",\n",
    "\t\t\t\t\"br_nm\": heangpoint['features'][i]['properties']['br_nm'],\n",
    "\t\t\t\t\"adm_nm\": heangpoint['features'][i]['properties']['adm_nm'],\n",
    "                'sum_cm_sa': df2_dict[heangpoint['features'][i]['properties']['ab_cd']]['sum_cm_sa'],\n",
    "                'sum_total_ns': df2_dict[heangpoint['features'][i]['properties']['ab_cd']]['sum_total_ns'],\n",
    "                'ratio_cm_sa_ns': df2_dict[heangpoint['features'][i]['properties']['ab_cd']]['ratio_cm_sa_ns'],\n",
    "                'max_total_ns_st_nm': df2_dict[heangpoint['features'][i]['properties']['ab_cd']]['max_total_ns_st_nm'],\n",
    "                'max_cm_sa_st_nm': df2_dict[heangpoint['features'][i]['properties']['ab_cd']]['max_cm_sa_st_nm']\n",
    "\t\t\t}\n",
    "        } for i in range(len(heangpoint['features']))\n",
    "    ]\n",
    "}"
   ]
  },
  {
   "cell_type": "code",
   "execution_count": null,
   "metadata": {},
   "outputs": [],
   "source": [
    "haengpoint_list = [\n",
    "    {\n",
    "        \"ab_cd\": str(heangpoint['features'][i]['properties']['ab_cd']),\n",
    "        \"sidonm\": \"서울특별시\",\n",
    "        \"br_nm\": heangpoint['features'][i]['properties']['br_nm'],\n",
    "        \"adm_nm\": heangpoint['features'][i]['properties']['adm_nm'],\n",
    "        'sum_cm_sa': df2_dict[heangpoint['features'][i]['properties']['ab_cd']]['sum_cm_sa'],\n",
    "        'sum_total_ns': df2_dict[heangpoint['features'][i]['properties']['ab_cd']]['sum_total_ns'],\n",
    "        'ratio_cm_sa_ns': df2_dict[heangpoint['features'][i]['properties']['ab_cd']]['ratio_cm_sa_ns'],\n",
    "        'max_total_ns_st_nm': df2_dict[heangpoint['features'][i]['properties']['ab_cd']]['max_total_ns_st_nm'],\n",
    "        'max_cm_sa_st_nm': df2_dict[heangpoint['features'][i]['properties']['ab_cd']]['max_cm_sa_st_nm'],\n",
    "        'coordinates': heangpoint['features'][i]['geometry']['coordinates']\n",
    "    } for i in range(len(heangpoint['features']))\n",
    "]"
   ]
  },
  {
   "cell_type": "code",
   "execution_count": null,
   "metadata": {},
   "outputs": [],
   "source": [
    "with open('output/heangpoint_conv.json', 'w') as f:\n",
    "    json.dump(heangpoint2, f, indent=4, ensure_ascii=False)"
   ]
  },
  {
   "cell_type": "code",
   "execution_count": null,
   "metadata": {},
   "outputs": [],
   "source": [
    "with open('output/haengpoint_list.json', 'w') as f:\n",
    "    json.dump(haengpoint_list, f, indent=4, ensure_ascii=False)"
   ]
  }
 ],
 "metadata": {
  "kernelspec": {
   "display_name": "pj2",
   "language": "python",
   "name": "python3"
  },
  "language_info": {
   "name": "python",
   "version": "3.10.13"
  }
 },
 "nbformat": 4,
 "nbformat_minor": 2
}
